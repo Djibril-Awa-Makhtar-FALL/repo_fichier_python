{
 "cells": [
  {
   "cell_type": "markdown",
   "id": "993f5255-bffa-43da-835a-4c7f88e70059",
   "metadata": {},
   "source": [
    "# 1) Commencez par importer les bibliothèques nécessaires, numpy."
   ]
  },
  {
   "cell_type": "code",
   "execution_count": 29,
   "id": "88ca79c3-af20-4423-94f6-8ec44f4e05d4",
   "metadata": {},
   "outputs": [],
   "source": [
    "# -*- coding: utf-8 -*-\n",
    "\"\"\"\n",
    "Created on Fri Sep 20 22:32:53 2024\n",
    "\n",
    "@author: Djibril Awa Makhtar FALL \n",
    "\n",
    "Point de contrôle de la gestion des fichiers\n",
    "\n",
    "\"\"\"\n",
    "\n",
    "import numpy as np\n",
    "\n",
    "import csv"
   ]
  },
  {
   "cell_type": "code",
   "execution_count": 31,
   "id": "4c0e7646-2875-4d10-8273-d7d257a90c99",
   "metadata": {},
   "outputs": [
    {
     "name": "stdout",
     "output_type": "stream",
     "text": [
      "<_io.TextIOWrapper name='Loan_prediction_dataset.csv' mode='r' encoding='cp1252'>\n"
     ]
    }
   ],
   "source": [
    "# 2) Utilisez la fonction open() pour ouvrir le fichier csv et affecter le résultat à une variable.\n",
    "\n",
    "fichier = open('Loan_prediction_dataset.csv', 'r') \n",
    "\n",
    "print(fichier)"
   ]
  },
  {
   "cell_type": "markdown",
   "id": "5ebd371d-7511-4826-88af-70f1eb556629",
   "metadata": {},
   "source": [
    "\"\"\"Utilisez le paramètre delimiter dans la fonction genfromtxt() pour spécifier\n",
    "que les valeurs du fichier sont séparées par des virgules.\"\"\""
   ]
  },
  {
   "cell_type": "code",
   "execution_count": 34,
   "id": "58ae7136-d4e4-49eb-87f2-5f302e48428a",
   "metadata": {},
   "outputs": [],
   "source": [
    "fichier = np.genfromtxt('Loan_prediction_dataset.csv', delimiter=',')"
   ]
  },
  {
   "cell_type": "markdown",
   "id": "e3124e1f-5e17-4376-b305-0bd7094086d8",
   "metadata": {},
   "source": [
    "\"\"\"3) Utilisez le tableau numpy pour effectuer une analyse statistique de base sur les données, \n",
    "comme trouver la moyenne, la médiane et l'écart type des montants des prêts.\"\"\""
   ]
  },
  {
   "cell_type": "code",
   "execution_count": 37,
   "id": "4dd5535e-5c18-4517-8adf-c97d7ca8e7e3",
   "metadata": {},
   "outputs": [],
   "source": [
    "# Créons d'abord une Liste pour stocker les montants des prêts\n",
    "\n",
    "loan_amounts = []"
   ]
  },
  {
   "cell_type": "code",
   "execution_count": 39,
   "id": "7ee9ad60-558f-4f63-9d06-b5cb83ec8a96",
   "metadata": {},
   "outputs": [],
   "source": [
    "# Extraire les montants des prêts\n",
    "\n",
    "for row in fichier:\n",
    "    \n",
    "# Vérifier si le montant du prêt est non vide et le convertir en float\n",
    "\n",
    "    if row[9]:  # Le montant du prêt est dans la colonne 9\n",
    "    \n",
    "        loan_amounts.append(float(row[9]))"
   ]
  },
  {
   "cell_type": "code",
   "execution_count": 41,
   "id": "277283e0-5bdd-45d9-ba41-719c0e4505c4",
   "metadata": {},
   "outputs": [],
   "source": [
    "# Convertir la liste en tableau NumPy\n",
    "\n",
    "loan_amounts_array = np.array(loan_amounts)"
   ]
  },
  {
   "cell_type": "code",
   "execution_count": 43,
   "id": "641ad455-44d2-4d13-893a-35c3a2d751e4",
   "metadata": {},
   "outputs": [],
   "source": [
    "# Calculer la moyenne des montants des prêts\n",
    "\n",
    "mean_loan_amount = np.nanmean(loan_amounts_array)"
   ]
  },
  {
   "cell_type": "code",
   "execution_count": 45,
   "id": "5b1558cf-e4d7-4c50-b014-32feeaa892ef",
   "metadata": {},
   "outputs": [
    {
     "name": "stdout",
     "output_type": "stream",
     "text": [
      "La moyenne des montants des prêts est : 342.0\n"
     ]
    }
   ],
   "source": [
    "print(\"La moyenne des montants des prêts est :\", mean_loan_amount)"
   ]
  },
  {
   "cell_type": "code",
   "execution_count": 47,
   "id": "690398a0-f396-47a0-b21f-261b3d72ff4d",
   "metadata": {},
   "outputs": [],
   "source": [
    "# Calculer la médiane des montants des prêts\n",
    "\n",
    "median_loan_amount = np.nanmedian(loan_amounts)"
   ]
  },
  {
   "cell_type": "code",
   "execution_count": 49,
   "id": "ee737a18-f14b-404d-a8ab-f59e7fd22975",
   "metadata": {},
   "outputs": [
    {
     "name": "stdout",
     "output_type": "stream",
     "text": [
      "La médiane des montants des prêts est : 360.0\n"
     ]
    }
   ],
   "source": [
    "print(\"La médiane des montants des prêts est :\", median_loan_amount)"
   ]
  },
  {
   "cell_type": "code",
   "execution_count": 51,
   "id": "c7d3a36d-f044-4f49-ad2b-1adb4b9c0ab5",
   "metadata": {},
   "outputs": [],
   "source": [
    "# Calculer l'écart type des montants des prêts\n",
    "\n",
    "std_loan_amount = np.nanstd(loan_amounts)"
   ]
  },
  {
   "cell_type": "code",
   "execution_count": 53,
   "id": "41ef82d6-0e80-4d49-8f3b-883c8e31b7f7",
   "metadata": {},
   "outputs": [
    {
     "name": "stdout",
     "output_type": "stream",
     "text": [
      "L'écart type des montants des prêts est: 65.0661202162846\n"
     ]
    }
   ],
   "source": [
    "print(\"L'écart type des montants des prêts est:\", std_loan_amount)"
   ]
  },
  {
   "cell_type": "code",
   "execution_count": null,
   "id": "a961dab2-5984-498e-b2ca-d3a98ab79964",
   "metadata": {},
   "outputs": [],
   "source": []
  }
 ],
 "metadata": {
  "kernelspec": {
   "display_name": "Python 3 (ipykernel)",
   "language": "python",
   "name": "python3"
  },
  "language_info": {
   "codemirror_mode": {
    "name": "ipython",
    "version": 3
   },
   "file_extension": ".py",
   "mimetype": "text/x-python",
   "name": "python",
   "nbconvert_exporter": "python",
   "pygments_lexer": "ipython3",
   "version": "3.12.7"
  }
 },
 "nbformat": 4,
 "nbformat_minor": 5
}
